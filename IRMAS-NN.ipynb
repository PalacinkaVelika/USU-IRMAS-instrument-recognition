{
 "cells": [
  {
   "cell_type": "markdown",
   "metadata": {},
   "source": []
  },
  {
   "cell_type": "markdown",
   "metadata": {},
   "source": [
    "## Import\n",
    "\n",
    "Lorem ipsum dolor sit amet."
   ]
  },
  {
   "cell_type": "code",
   "execution_count": 26,
   "metadata": {},
   "outputs": [],
   "source": [
    "import scipy\n",
    "from scipy.signal import butter, filtfilt\n",
    "import numpy as np\n",
    "import matplotlib.pyplot as plt\n",
    "import os"
   ]
  },
  {
   "cell_type": "code",
   "execution_count": 24,
   "metadata": {},
   "outputs": [],
   "source": [
    "def print_signal_info(data, sample_rate):\n",
    "    print(f\"Sample Rate: {sample_rate} Hz\")\n",
    "    print(f\"Data Shape: {data.shape}\")\n",
    "    print(f\"First 10 Samples: {data[:10]}\")\n",
    "\n",
    "def print_signal_graphs(data, sample_rate):\n",
    "    # Use only the first channel if stereo\n",
    "    if len(data.shape) == 2:\n",
    "        data = data[:, 0]  \n",
    "\n",
    "    time = np.linspace(0., len(data) / sample_rate, num=len(data))\n",
    "    fig, axs = plt.subplots(1, 2, figsize=(18, 6))\n",
    "\n",
    "    # Raw and envelope\n",
    "    envelope = amplitude_envelope(data, sample_rate)\n",
    "\n",
    "    axs[0].plot(time, data, label=\"Waveform\")\n",
    "    axs[0].plot(time, envelope, color='r', alpha=0.6, label=\"Amplitude Envelope\")\n",
    "    axs[0].set_xlabel(\"Time [s]\")\n",
    "    axs[0].set_ylabel(\"Amplitude\")\n",
    "    axs[0].set_title(\"Waveform and Amplitude Envelope\")\n",
    "    axs[0].legend()\n",
    "    axs[0].grid()\n",
    "\n",
    "    # Spectrogram\n",
    "    axs[1].specgram(data, Fs=sample_rate, NFFT=1024, noverlap=512, cmap='inferno')\n",
    "    axs[1].set_xlabel(\"Time [s]\")\n",
    "    axs[1].set_ylabel(\"Frequency [Hz]\")\n",
    "    axs[1].set_title(\"Spectrogram of Audio Signal\")\n",
    "\n",
    "    plt.tight_layout()\n",
    "    plt.show()\n",
    "\n",
    "def amplitude_envelope(signal, sample_rate, cutoff_freq=10):\n",
    "    # Design a low-pass Butterworth filter\n",
    "    nyquist = 0.5 * sample_rate\n",
    "    normal_cutoff = cutoff_freq / nyquist\n",
    "    b, a = butter(1, normal_cutoff, btype='low', analog=False)\n",
    "    # Apply the filter to the absolute value of the signal\n",
    "    envelope = filtfilt(b, a, np.abs(signal))\n",
    "    return envelope"
   ]
  },
  {
   "cell_type": "markdown",
   "metadata": {},
   "source": [
    "## Nahrání signálu\n",
    "\n",
    "Lorem ipsum dolor sit amet."
   ]
  },
  {
   "cell_type": "code",
   "execution_count": 29,
   "metadata": {},
   "outputs": [
    {
     "name": "stdout",
     "output_type": "stream",
     "text": [
      "Sample Rate: 44100 Hz\n",
      "Data Shape: (132299, 2)\n",
      "First 10 Samples: [[-82  30]\n",
      " [-73  40]\n",
      " [-62  49]\n",
      " [-49  58]\n",
      " [-38  69]\n",
      " [-26  87]\n",
      " [-15 108]\n",
      " [ -8 129]\n",
      " [ -1 153]\n",
      " [  7 177]]\n",
      "Sample Rate: 44100 Hz\n",
      "Data Shape: (132299, 2)\n",
      "First 10 Samples: [[ 30  46]\n",
      " [ 22  41]\n",
      " [ 17  36]\n",
      " [ 10  26]\n",
      " [ 10  14]\n",
      " [ 10  -1]\n",
      " [  2 -18]\n",
      " [ -1 -35]\n",
      " [  6 -46]\n",
      " [ 11 -51]]\n",
      "Sample Rate: 44100 Hz\n",
      "Data Shape: (132299, 2)\n",
      "First 10 Samples: [[-247 -303]\n",
      " [-224 -294]\n",
      " [-200 -296]\n",
      " [-169 -307]\n",
      " [-126 -314]\n",
      " [ -69 -316]\n",
      " [ -13 -316]\n",
      " [  29 -311]\n",
      " [  58 -312]\n",
      " [  77 -322]]\n",
      "Sample Rate: 44100 Hz\n",
      "Data Shape: (132299, 2)\n",
      "First 10 Samples: [[-329  363]\n",
      " [-363  268]\n",
      " [-423  174]\n",
      " [-494   32]\n",
      " [-544 -125]\n",
      " [-587 -238]\n",
      " [-641 -323]\n",
      " [-693 -393]\n",
      " [-730 -423]\n",
      " [-758 -412]]\n",
      "Sample Rate: 44100 Hz\n",
      "Data Shape: (132299, 2)\n",
      "First 10 Samples: [[  28 -596]\n",
      " [ -40 -596]\n",
      " [ -69 -620]\n",
      " [-189 -646]\n",
      " [-362 -543]\n",
      " [-459 -314]\n",
      " [-372  -71]\n",
      " [-129   53]\n",
      " [  94   61]\n",
      " [ 258  100]]\n"
     ]
    }
   ],
   "source": [
    "# NEZAPOMENOUT ŘEŠIT OBA KANÁLY\n",
    "\n",
    "dir_celo = \"Dataset\\Cel\"\n",
    "\n",
    "files_celo = os.listdir(dir_celo)\n",
    "\n",
    "wav_files = [file for file in files_celo if file.endswith('.wav')]\n",
    "\n",
    "for i in range(5):\n",
    "    file_path = os.path.join(dir_celo, wav_files[i])\n",
    "    sample_rate, data = wavfile.read(file_path)\n",
    "    print_signal_info(data, sample_rate)\n",
    "    print_signal_graphs(data, sample_rate)"
   ]
  },
  {
   "cell_type": "markdown",
   "metadata": {},
   "source": [
    "## Očištění a sjednocení signálu\n",
    "\n",
    "Lorem ipsum dolor sit amet."
   ]
  },
  {
   "cell_type": "code",
   "execution_count": null,
   "metadata": {},
   "outputs": [],
   "source": [
    "# NEZAPOMENOUT ŘEŠIT OBA KANÁLY\n",
    "\n",
    "# Sjednocení\n",
    "## Všechna trénovací data mají stejný sample_rate(44100) i délku(3s) i data_shape(132299, 2), takže není třeba sjednocovat.\n",
    "\n",
    "# Očištění\n",
    "# Audio je kvalitní a žádné závažné problémy, které by bylo třeba odstranit"
   ]
  },
  {
   "cell_type": "markdown",
   "metadata": {},
   "source": [
    "## Amplitude envelope\n",
    "\n",
    "Lorem ipsum dolor sit amet."
   ]
  },
  {
   "cell_type": "code",
   "execution_count": null,
   "metadata": {},
   "outputs": [],
   "source": []
  },
  {
   "cell_type": "markdown",
   "metadata": {},
   "source": [
    "## Spectogram\n",
    "\n",
    "Lorem ipsum dolor sit amet."
   ]
  },
  {
   "cell_type": "code",
   "execution_count": null,
   "metadata": {},
   "outputs": [],
   "source": []
  },
  {
   "cell_type": "markdown",
   "metadata": {},
   "source": [
    "## Neural network\n",
    "\n",
    "Lorem ipsum dolor sit amet."
   ]
  },
  {
   "cell_type": "code",
   "execution_count": null,
   "metadata": {},
   "outputs": [],
   "source": []
  },
  {
   "cell_type": "code",
   "execution_count": null,
   "metadata": {},
   "outputs": [],
   "source": []
  }
 ],
 "metadata": {
  "kernelspec": {
   "display_name": "Python 3",
   "language": "python",
   "name": "python3"
  },
  "language_info": {
   "codemirror_mode": {
    "name": "ipython",
    "version": 3
   },
   "file_extension": ".py",
   "mimetype": "text/x-python",
   "name": "python",
   "nbconvert_exporter": "python",
   "pygments_lexer": "ipython3",
   "version": "3.11.3"
  }
 },
 "nbformat": 4,
 "nbformat_minor": 2
}
